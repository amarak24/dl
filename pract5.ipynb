{
 "cells": [
  {
   "cell_type": "code",
   "execution_count": 1,
   "id": "41c6150c-083b-4340-ad60-99404970f5ce",
   "metadata": {},
   "outputs": [],
   "source": [
    "import tensorflow as tf\n",
    "import matplotlib.pyplot as plt\n",
    "from tensorflow.keras.applications import VGG16\n",
    "from tensorflow.keras.layers import Dense, Flatten, Dropout\n",
    "from tensorflow.keras.models import Model"
   ]
  },
  {
   "cell_type": "code",
   "execution_count": 2,
   "id": "aca08af2-28c3-4e6e-aa55-fb944b8cc2d1",
   "metadata": {},
   "outputs": [],
   "source": [
    "# Load CIFAR-10 dataset and preprocess\n",
    "(x_train, y_train), (x_test, y_test) = tf.keras.datasets.cifar10.load_data()\n",
    "x_train, x_test = tf.image.resize(x_train / 255.0, (64, 64)), tf.image.resize(x_test / 255.0, (64, 64))"
   ]
  },
  {
   "cell_type": "code",
   "execution_count": 3,
   "id": "602916f1-2144-41b8-b86a-58621a61829f",
   "metadata": {},
   "outputs": [
    {
     "name": "stdout",
     "output_type": "stream",
     "text": [
      "Downloading data from https://storage.googleapis.com/tensorflow/keras-applications/vgg16/vgg16_weights_tf_dim_ordering_tf_kernels_notop.h5\n",
      "\u001b[1m58889256/58889256\u001b[0m \u001b[32m━━━━━━━━━━━━━━━━━━━━\u001b[0m\u001b[37m\u001b[0m \u001b[1m10s\u001b[0m 0us/step\n"
     ]
    }
   ],
   "source": [
    "# Load pre-trained VGG16 model, freeze base layers\n",
    "base_model = VGG16(weights='imagenet', include_top=False, input_shape=(64, 64, 3))\n",
    "for layer in base_model.layers: layer.trainable = False"
   ]
  },
  {
   "cell_type": "code",
   "execution_count": 4,
   "id": "6e71c7f7-c9ef-4a6c-b77e-eb78db96ee6b",
   "metadata": {},
   "outputs": [],
   "source": [
    "# Add custom classifier\n",
    "x = Flatten()(base_model.output)\n",
    "x = Dense(64, activation='relu')(x)\n",
    "x = Dropout(0.5)(x)\n",
    "x = Dense(10, activation='softmax')(x)"
   ]
  },
  {
   "cell_type": "code",
   "execution_count": 5,
   "id": "2f1fbe53-13e0-4c66-8ed7-7bfd12625da0",
   "metadata": {},
   "outputs": [],
   "source": [
    "# Create and compile model\n",
    "model = Model(inputs=base_model.input, outputs=x)\n",
    "model.compile(optimizer='adam', loss='sparse_categorical_crossentropy', metrics=['accuracy'])"
   ]
  },
  {
   "cell_type": "code",
   "execution_count": null,
   "id": "60739ec9-ffc7-4019-aded-6e7f92ff6a1c",
   "metadata": {},
   "outputs": [
    {
     "name": "stdout",
     "output_type": "stream",
     "text": [
      "Epoch 1/5\n",
      "\u001b[1m378/782\u001b[0m \u001b[32m━━━━━━━━━\u001b[0m\u001b[37m━━━━━━━━━━━\u001b[0m \u001b[1m18:50\u001b[0m 3s/step - accuracy: 0.3397 - loss: 1.8615"
     ]
    }
   ],
   "source": [
    "# Train and evaluate model\n",
    "model.fit(x_train, y_train, epochs=5, validation_data=(x_test, y_test), batch_size=64)\n",
    "test_acc = model.evaluate(x_test, y_test, verbose=0)[1]"
   ]
  },
  {
   "cell_type": "code",
   "execution_count": null,
   "id": "cff2a11e-9391-459b-b8c6-3cc1fd756ed1",
   "metadata": {},
   "outputs": [],
   "source": [
    "# Predict and visualize results\n",
    "predictions = model.predict(x_test)\n",
    "plt.imshow(x_test[10])\n",
    "plt.title(f\"Pred: {predictions[10].argmax()}, Actual: {y_test[10][0]}\")\n",
    "plt.show()"
   ]
  },
  {
   "cell_type": "code",
   "execution_count": null,
   "id": "571e8c4d-59fa-4290-bd98-fefc7cf1c932",
   "metadata": {},
   "outputs": [],
   "source": [
    "print(f'Test accuracy: {test_acc * 100:.2f}%')\n"
   ]
  },
  {
   "cell_type": "code",
   "execution_count": null,
   "id": "bc4846d9-fa3e-4d8a-9a6b-426eddf8d92e",
   "metadata": {},
   "outputs": [],
   "source": []
  }
 ],
 "metadata": {
  "kernelspec": {
   "display_name": "Python 3 (ipykernel)",
   "language": "python",
   "name": "python3"
  },
  "language_info": {
   "codemirror_mode": {
    "name": "ipython",
    "version": 3
   },
   "file_extension": ".py",
   "mimetype": "text/x-python",
   "name": "python",
   "nbconvert_exporter": "python",
   "pygments_lexer": "ipython3",
   "version": "3.11.5"
  }
 },
 "nbformat": 4,
 "nbformat_minor": 5
}
