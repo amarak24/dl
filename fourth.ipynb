{
 "cells": [
  {
   "cell_type": "code",
   "execution_count": 1,
   "id": "5fc4d24e-5f50-4073-89c7-6764417268b3",
   "metadata": {},
   "outputs": [],
   "source": [
    "import numpy as np\n",
    "from sklearn.preprocessing import OneHotEncoder"
   ]
  },
  {
   "cell_type": "code",
   "execution_count": 2,
   "id": "bc8888e1-8f8e-42d1-988d-cd1b719dfe2c",
   "metadata": {},
   "outputs": [],
   "source": [
    "# Sample corpus and parameters\n",
    "corpus = [\"I like machine learning\", \"I enjoy deep\", \"Coding is fascinating\"]\n",
    "window_size, embedding_dim, lr, epochs = 2, 5, 0.01, 100\n"
   ]
  },
  {
   "cell_type": "code",
   "execution_count": 3,
   "id": "b3d1b45d-9fa4-4d0f-bbf3-51d430829d36",
   "metadata": {},
   "outputs": [],
   "source": [
    "# Preprocessing: Tokenize and create vocabulary\n",
    "words = [word for sentence in corpus for word in sentence.lower().split()]\n",
    "vocab = sorted(set(words))\n",
    "word_to_index = {word: idx for idx, word in enumerate(vocab)}\n",
    "index_to_word = {idx: word for word, idx in word_to_index.items()}"
   ]
  },
  {
   "cell_type": "code",
   "execution_count": 5,
   "id": "78c7dad5-560f-4300-91e8-ef405057232d",
   "metadata": {},
   "outputs": [
    {
     "name": "stderr",
     "output_type": "stream",
     "text": [
      "C:\\Users\\admin\\AppData\\Local\\Programs\\Python\\Python311\\Lib\\site-packages\\sklearn\\preprocessing\\_encoders.py:972: FutureWarning: `sparse` was renamed to `sparse_output` in version 1.2 and will be removed in 1.4. `sparse_output` is ignored unless you leave `sparse` to its default value.\n",
      "  warnings.warn(\n"
     ]
    }
   ],
   "source": [
    "\n",
    "# One-hot encoding\n",
    "encoder = OneHotEncoder(sparse=False)\n",
    "one_hot_matrix = encoder.fit_transform(np.array(vocab).reshape(-1, 1))"
   ]
  },
  {
   "cell_type": "code",
   "execution_count": 6,
   "id": "bd5885cb-59f3-487b-ae4a-9573258af906",
   "metadata": {},
   "outputs": [],
   "source": [
    "# Generate training data\n",
    "def generate_training_data(words, window_size):\n",
    "    X, y = [], []\n",
    "    for i in range(window_size, len(words) - window_size):\n",
    "        context = words[i - window_size:i] + words[i + 1:i + window_size + 1]\n",
    "        target = words[i]\n",
    "        X.append(sum(one_hot_matrix[word_to_index[w]] for w in context))\n",
    "        y.append(one_hot_matrix[word_to_index[target]])\n",
    "    return np.array(X), np.array(y)"
   ]
  },
  {
   "cell_type": "code",
   "execution_count": 7,
   "id": "3e10b9e7-9038-4c34-a305-edc2b69c0543",
   "metadata": {},
   "outputs": [],
   "source": [
    "X_train, y_train = generate_training_data(words, window_size)"
   ]
  },
  {
   "cell_type": "code",
   "execution_count": 8,
   "id": "7faed6f2-0a1a-4e79-b015-735a2ce6aa5a",
   "metadata": {},
   "outputs": [],
   "source": [
    "# Model parameters and layers\n",
    "W1, W2 = np.random.rand(len(vocab), embedding_dim), np.random.rand(embedding_dim, len(vocab))"
   ]
  },
  {
   "cell_type": "code",
   "execution_count": 9,
   "id": "efc4297a-e9a1-4f0b-90c1-9c0330532427",
   "metadata": {},
   "outputs": [],
   "source": [
    "\n",
    "# Training the CBOW model\n",
    "for _ in range(epochs):\n",
    "    for x, target in zip(X_train, y_train):\n",
    "        h, u = np.dot(x, W1), np.dot(np.dot(x, W1), W2)\n",
    "        y_pred = np.exp(u) / np.sum(np.exp(u))\n",
    "        e = y_pred - target\n",
    "        W2 -= lr * np.outer(h, e)\n",
    "        W1 -= lr * np.outer(x, np.dot(W2, e))"
   ]
  },
  {
   "cell_type": "code",
   "execution_count": 10,
   "id": "1cc4db14-a435-4e69-a2ef-d5c524dbc3ab",
   "metadata": {},
   "outputs": [],
   "source": [
    "# Word prediction function\n",
    "def predict(context_words):\n",
    "    context_vec = sum(one_hot_matrix[word_to_index[word]] for word in context_words)\n",
    "    h = np.dot(context_vec, W1)\n",
    "    u = np.dot(h, W2)\n",
    "    y_pred = np.exp(u) / np.sum(np.exp(u))\n",
    "    return index_to_word[np.argmax(y_pred)]"
   ]
  },
  {
   "cell_type": "code",
   "execution_count": 11,
   "id": "907483a1-5d54-4db8-b377-7445a4e32fdb",
   "metadata": {},
   "outputs": [
    {
     "name": "stdout",
     "output_type": "stream",
     "text": [
      "Predicted word: machine\n"
     ]
    }
   ],
   "source": [
    "# Test prediction\n",
    "print(\"Predicted word:\", predict([\"i\",\"like\",\"learning\",\"i\"]))"
   ]
  },
  {
   "cell_type": "code",
   "execution_count": null,
   "id": "990f5785-c979-468c-aa54-4c2d31a8e665",
   "metadata": {},
   "outputs": [],
   "source": []
  }
 ],
 "metadata": {
  "kernelspec": {
   "display_name": "Python 3 (ipykernel)",
   "language": "python",
   "name": "python3"
  },
  "language_info": {
   "codemirror_mode": {
    "name": "ipython",
    "version": 3
   },
   "file_extension": ".py",
   "mimetype": "text/x-python",
   "name": "python",
   "nbconvert_exporter": "python",
   "pygments_lexer": "ipython3",
   "version": "3.11.5"
  }
 },
 "nbformat": 4,
 "nbformat_minor": 5
}
