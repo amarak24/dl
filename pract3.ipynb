{
 "cells": [
  {
   "cell_type": "code",
   "execution_count": 1,
   "id": "b8796369-ac95-4861-be76-37c9c3cfae54",
   "metadata": {},
   "outputs": [],
   "source": [
    "import tensorflow as tf\n",
    "from tensorflow.keras import layers, models\n",
    "from tensorflow.keras.datasets import mnist\n",
    "import numpy as np\n",
    "import matplotlib.pyplot as plt"
   ]
  },
  {
   "cell_type": "code",
   "execution_count": 2,
   "id": "bce55f88-9c43-49fd-a7ce-047120c07af4",
   "metadata": {},
   "outputs": [],
   "source": [
    "# Step b: Load and preprocess the dataset (MNIST for simplicity)\n",
    "(x_train, _), (x_test, _) = mnist.load_data()\n",
    "x_train, x_test = x_train / 255.0, x_test / 255.0  # Normalize images\n",
    "x_train = np.reshape(x_train, (x_train.shape[0], 28, 28, 1))  # Reshape for CNNs\n",
    "x_test = np.reshape(x_test, (x_test.shape[0], 28, 28, 1))"
   ]
  },
  {
   "cell_type": "code",
   "execution_count": 3,
   "id": "6f1b1f24-c677-43e1-9532-793affb69c3c",
   "metadata": {},
   "outputs": [],
   "source": [
    "# Step c: Build the Encoder-Decoder (Autoencoder) Model\n",
    "input_img = layers.Input(shape=(28, 28, 1))"
   ]
  },
  {
   "cell_type": "code",
   "execution_count": 4,
   "id": "3cfd5ec6-68f5-4105-8eec-f9415c3fb0dc",
   "metadata": {},
   "outputs": [],
   "source": [
    "# Encoder\n",
    "x = layers.Conv2D(32, (3, 3), activation='relu', padding='same')(input_img)\n",
    "x = layers.MaxPooling2D((2, 2), padding='same')(x)\n",
    "x = layers.Conv2D(64, (3, 3), activation='relu', padding='same')(x)\n",
    "encoded = layers.MaxPooling2D((2, 2), padding='same')(x)"
   ]
  },
  {
   "cell_type": "code",
   "execution_count": 5,
   "id": "c42c70a9-4fc0-4477-ba22-3f01f946b9ef",
   "metadata": {},
   "outputs": [],
   "source": [
    "# Decoder\n",
    "x = layers.Conv2DTranspose(64, (3, 3), activation='relu', padding='same')(encoded)\n",
    "x = layers.UpSampling2D((2, 2))(x)\n",
    "x = layers.Conv2DTranspose(32, (3, 3), activation='relu', padding='same')(x)\n",
    "decoded = layers.UpSampling2D((2, 2))(x)\n",
    "decoded = layers.Conv2DTranspose(1, (3, 3), activation='sigmoid', padding='same')(decoded)"
   ]
  },
  {
   "cell_type": "code",
   "execution_count": 6,
   "id": "2a2957fb-16f3-4a9e-9d89-a9e31a9c3b1f",
   "metadata": {},
   "outputs": [],
   "source": [
    "# Model\n",
    "autoencoder = models.Model(input_img, decoded)"
   ]
  },
  {
   "cell_type": "code",
   "execution_count": 7,
   "id": "a80ed5af-42fe-4ee2-83f0-ca875012780d",
   "metadata": {},
   "outputs": [],
   "source": [
    "# Step e: Compile the model\n",
    "autoencoder.compile(optimizer='adam', loss='binary_crossentropy', metrics=['accuracy'])"
   ]
  },
  {
   "cell_type": "code",
   "execution_count": null,
   "id": "3fedc255-2a54-4ba7-b1cf-72525850740f",
   "metadata": {},
   "outputs": [
    {
     "name": "stdout",
     "output_type": "stream",
     "text": [
      "Epoch 1/10\n",
      "\u001b[1m469/469\u001b[0m \u001b[32m━━━━━━━━━━━━━━━━━━━━\u001b[0m\u001b[37m\u001b[0m \u001b[1m61s\u001b[0m 126ms/step - accuracy: 0.7996 - loss: 0.1821 - val_accuracy: 0.8141 - val_loss: 0.0758\n",
      "Epoch 2/10\n",
      "\u001b[1m469/469\u001b[0m \u001b[32m━━━━━━━━━━━━━━━━━━━━\u001b[0m\u001b[37m\u001b[0m \u001b[1m67s\u001b[0m 143ms/step - accuracy: 0.8152 - loss: 0.0750 - val_accuracy: 0.8143 - val_loss: 0.0711\n",
      "Epoch 3/10\n",
      "\u001b[1m279/469\u001b[0m \u001b[32m━━━━━━━━━━━\u001b[0m\u001b[37m━━━━━━━━━\u001b[0m \u001b[1m25s\u001b[0m 132ms/step - accuracy: 0.8158 - loss: 0.0717"
     ]
    }
   ],
   "source": [
    "# Step d: Train the model and capture the training history\n",
    "history = autoencoder.fit(x_train, x_train, epochs=10, batch_size=128, validation_data=(x_test, x_test))"
   ]
  },
  {
   "cell_type": "code",
   "execution_count": null,
   "id": "17af68cd-c820-4143-9208-6a7052e66185",
   "metadata": {},
   "outputs": [],
   "source": [
    "# Anomaly detection: Compare reconstruction error to detect anomalies\n",
    "decoded_imgs = autoencoder.predict(x_test)\n",
    "reconstruction_error = np.mean(np.abs(decoded_imgs - x_test), axis=(1, 2, 3))\n",
    "threshold = np.percentile(reconstruction_error, 95)  # Set threshold for anomaly detection\n",
    "anomalies = reconstruction_error > threshold"
   ]
  },
  {
   "cell_type": "code",
   "execution_count": null,
   "id": "481f8234-0b2a-436f-8c87-28dfe57911ef",
   "metadata": {},
   "outputs": [],
   "source": [
    "print(f\"Detected {np.sum(anomalies)} anomalies out of {len(anomalies)} test samples.\")\n"
   ]
  },
  {
   "cell_type": "code",
   "execution_count": null,
   "id": "3828afe5-21ee-43c9-a90d-4130560e1e7b",
   "metadata": {},
   "outputs": [],
   "source": [
    "# Plot the loss curves for training and validation\n",
    "plt.plot(history.history['loss'], label='Training Loss')\n",
    "plt.plot(history.history['val_loss'], label='Validation Loss')\n",
    "plt.xlabel('Epochs')\n",
    "plt.ylabel('Loss')\n",
    "plt.legend()\n",
    "plt.show()"
   ]
  }
 ],
 "metadata": {
  "kernelspec": {
   "display_name": "Python 3 (ipykernel)",
   "language": "python",
   "name": "python3"
  },
  "language_info": {
   "codemirror_mode": {
    "name": "ipython",
    "version": 3
   },
   "file_extension": ".py",
   "mimetype": "text/x-python",
   "name": "python",
   "nbconvert_exporter": "python",
   "pygments_lexer": "ipython3",
   "version": "3.11.5"
  }
 },
 "nbformat": 4,
 "nbformat_minor": 5
}
